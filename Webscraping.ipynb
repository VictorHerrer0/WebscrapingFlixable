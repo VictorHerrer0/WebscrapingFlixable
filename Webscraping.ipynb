{
 "cells": [
  {
   "cell_type": "code",
   "execution_count": 1,
   "metadata": {},
   "outputs": [],
   "source": [
    "#pip install beautifulsoup4"
   ]
  },
  {
   "cell_type": "code",
   "execution_count": 2,
   "metadata": {},
   "outputs": [],
   "source": [
    "#pip install lxml"
   ]
  },
  {
   "cell_type": "code",
   "execution_count": 3,
   "metadata": {},
   "outputs": [],
   "source": [
    "#pip install selenium"
   ]
  },
  {
   "cell_type": "code",
   "execution_count": 37,
   "metadata": {},
   "outputs": [],
   "source": [
    "import numpy as np\n",
    "import pandas as pd \n",
    "import requests\n",
    "import seaborn as sns\n",
    "from bs4 import BeautifulSoup\n",
    "import lxml\n",
    "import seaborn as sns\n",
    "import matplotlib.pyplot as plt\n",
    "from matplotlib import style\n",
    "from selenium import webdriver\n",
    "import time"
   ]
  },
  {
   "cell_type": "code",
   "execution_count": 5,
   "metadata": {},
   "outputs": [],
   "source": [
    "Adventure = requests.get('https://flixable.com/genre/action-and-adventure/?min-rating=0&audio=en&min-year=2021&max-year=2023&order=rating#filterForm')\n",
    "AdventureSoup = BeautifulSoup(Adventure.text, 'html')\n",
    "\n",
    "Children = requests.get('https://flixable.com/genre/children-and-family-movies/?min-rating=0&audio=en&min-year=2021&max-year=2023&order=rating#filterForm')\n",
    "ChildSoup = BeautifulSoup(Children.text, 'html')\n",
    "\n",
    "Comedy = requests.get('https://flixable.com/genre/comedies/?min-rating=0&audio=en&min-year=2021&max-year=2023&order=rating#filterForm')\n",
    "ComedySoup = BeautifulSoup(Comedy.text, 'html')\n",
    "\n",
    "Docu = requests.get('https://flixable.com/genre/documentaries/?min-rating=0&audio=en&min-year=2021&max-year=2023&order=rating#filterForm')\n",
    "DocuSoup = BeautifulSoup(Docu.text, 'html')\n",
    "\n",
    "Drama = requests.get('https://flixable.com/genre/dramas/?min-rating=0&audio=en&min-year=2021&max-year=2023&order=rating#filterForm')\n",
    "DramaSoup = BeautifulSoup(Drama.text, 'html')\n",
    "\n",
    "Horror = requests.get('https://flixable.com/genre/horror-movies/?min-rating=0&audio=en&min-year=2021&max-year=2023&order=rating#filterForm')\n",
    "HorrorSoup = BeautifulSoup(Horror.text, 'html')\n",
    "\n",
    "Romantic = requests.get('https://flixable.com/genre/romantic-movies/?min-rating=0&audio=en&min-year=2021&max-year=2023&order=rating#filterForm')\n",
    "RomanticSoup = BeautifulSoup(Romantic.text, 'html')\n",
    "\n",
    "Sports = requests.get('https://flixable.com/genre/sports-movies/?min-rating=0&audio=en&min-year=2021&max-year=2023&order=rating#filterForm')\n",
    "SportsSoup = BeautifulSoup(Sports.text, 'html')\n",
    "\n",
    "Thrillers = requests.get('https://flixable.com/genre/thrillers/?min-rating=0&audio=en&min-year=2021&max-year=2023&order=rating#filterForm')\n",
    "ThrillersSoup = BeautifulSoup(Thrillers.text, 'html')\n",
    "\n"
   ]
  },
  {
   "cell_type": "code",
   "execution_count": 6,
   "metadata": {},
   "outputs": [],
   "source": [
    "Categories = [AdventureSoup, ChildSoup, ComedySoup, DocuSoup, DramaSoup, HorrorSoup, RomanticSoup, SportsSoup, ThrillersSoup]\n",
    "\n",
    "movies = []\n",
    "years_all = []\n",
    "names = []\n",
    "years = []\n",
    "ranking = []\n",
    "list = []\n",
    "numb = [0,1,2,3,4,5,6,7,8]\n",
    "\n",
    "for i in Categories:\n",
    "  list.append(i)\n",
    "\n",
    "#Get names:\n",
    "for item in numb:\n",
    "  movies.extend(list[item].find_all('h5', class_=\"card-title\"))\n",
    "\n",
    "for name in movies:\n",
    "  names.append(name.text)\n",
    "\n",
    "#Get years and ranking\n",
    "for item in numb:\n",
    "  years_all.extend(list[item].find_all('div', class_=\"card-description\"))\n",
    "\n",
    "for year in years_all:\n",
    "  years.append(year.text.split()[0])\n",
    "  ranking.append(year.text.split()[-1])\n"
   ]
  },
  {
   "cell_type": "code",
   "execution_count": 7,
   "metadata": {},
   "outputs": [],
   "source": [
    "rank = []\n",
    "for i in range(len(years)):\n",
    "    if years[i] != ranking[i]:\n",
    "        rank.append(ranking[i])\n",
    "    else:\n",
    "        rank.append(\"nan\") #we need to add something so that it matches len(years). could be anything\n"
   ]
  },
  {
   "cell_type": "code",
   "execution_count": 8,
   "metadata": {},
   "outputs": [],
   "source": [
    "DF = pd.DataFrame()\n",
    "DF['Movies'] = names\n",
    "DF['Rating'] = rank \n",
    "DF['Year'] = years\n",
    "\n",
    "DF['Year'] = DF['Year'].astype(int) \n"
   ]
  },
  {
   "cell_type": "code",
   "execution_count": 10,
   "metadata": {},
   "outputs": [],
   "source": [
    "DF['Rating'] = DF['Rating'].str.rstrip('/10') #removing /10 from all ratings so that we can convert them to numbers\n",
    "\n",
    "DF['Rating'] = pd.to_numeric(DF['Rating'], errors='coerce') #convert str into number\n"
   ]
  },
  {
   "cell_type": "code",
   "execution_count": 14,
   "metadata": {},
   "outputs": [
    {
     "data": {
      "text/html": [
       "<div>\n",
       "<style scoped>\n",
       "    .dataframe tbody tr th:only-of-type {\n",
       "        vertical-align: middle;\n",
       "    }\n",
       "\n",
       "    .dataframe tbody tr th {\n",
       "        vertical-align: top;\n",
       "    }\n",
       "\n",
       "    .dataframe thead th {\n",
       "        text-align: right;\n",
       "    }\n",
       "</style>\n",
       "<table border=\"1\" class=\"dataframe\">\n",
       "  <thead>\n",
       "    <tr style=\"text-align: right;\">\n",
       "      <th></th>\n",
       "      <th>Movies</th>\n",
       "      <th>Rating</th>\n",
       "      <th>Year</th>\n",
       "    </tr>\n",
       "  </thead>\n",
       "  <tbody>\n",
       "    <tr>\n",
       "      <th>0</th>\n",
       "      <td>Green Snake</td>\n",
       "      <td>6.9</td>\n",
       "      <td>2021</td>\n",
       "    </tr>\n",
       "    <tr>\n",
       "      <th>1</th>\n",
       "      <td>New Gods: Nezha Reborn</td>\n",
       "      <td>6.7</td>\n",
       "      <td>2021</td>\n",
       "    </tr>\n",
       "    <tr>\n",
       "      <th>2</th>\n",
       "      <td>Sooryavanshi</td>\n",
       "      <td>6.7</td>\n",
       "      <td>2021</td>\n",
       "    </tr>\n",
       "    <tr>\n",
       "      <th>3</th>\n",
       "      <td>The Yin Yang Master</td>\n",
       "      <td>6.5</td>\n",
       "      <td>2021</td>\n",
       "    </tr>\n",
       "    <tr>\n",
       "      <th>4</th>\n",
       "      <td>Against The Ice</td>\n",
       "      <td>6.4</td>\n",
       "      <td>2022</td>\n",
       "    </tr>\n",
       "    <tr>\n",
       "      <th>...</th>\n",
       "      <td>...</td>\n",
       "      <td>...</td>\n",
       "      <td>...</td>\n",
       "    </tr>\n",
       "    <tr>\n",
       "      <th>323</th>\n",
       "      <td>Hostage House</td>\n",
       "      <td>NaN</td>\n",
       "      <td>2021</td>\n",
       "    </tr>\n",
       "    <tr>\n",
       "      <th>324</th>\n",
       "      <td>In for a Murder</td>\n",
       "      <td>NaN</td>\n",
       "      <td>2021</td>\n",
       "    </tr>\n",
       "    <tr>\n",
       "      <th>325</th>\n",
       "      <td>Kingdom: Ashin of the North</td>\n",
       "      <td>NaN</td>\n",
       "      <td>2021</td>\n",
       "    </tr>\n",
       "    <tr>\n",
       "      <th>326</th>\n",
       "      <td>Lethal Love</td>\n",
       "      <td>NaN</td>\n",
       "      <td>2021</td>\n",
       "    </tr>\n",
       "    <tr>\n",
       "      <th>327</th>\n",
       "      <td>Munich – The Edge of War</td>\n",
       "      <td>NaN</td>\n",
       "      <td>2021</td>\n",
       "    </tr>\n",
       "  </tbody>\n",
       "</table>\n",
       "<p>328 rows × 3 columns</p>\n",
       "</div>"
      ],
      "text/plain": [
       "                          Movies  Rating  Year\n",
       "0                    Green Snake     6.9  2021\n",
       "1         New Gods: Nezha Reborn     6.7  2021\n",
       "2                   Sooryavanshi     6.7  2021\n",
       "3            The Yin Yang Master     6.5  2021\n",
       "4                Against The Ice     6.4  2022\n",
       "..                           ...     ...   ...\n",
       "323                Hostage House     NaN  2021\n",
       "324              In for a Murder     NaN  2021\n",
       "325  Kingdom: Ashin of the North     NaN  2021\n",
       "326                  Lethal Love     NaN  2021\n",
       "327     Munich – The Edge of War     NaN  2021\n",
       "\n",
       "[328 rows x 3 columns]"
      ]
     },
     "execution_count": 14,
     "metadata": {},
     "output_type": "execute_result"
    }
   ],
   "source": [
    "DF"
   ]
  },
  {
   "cell_type": "markdown",
   "metadata": {},
   "source": [
    "Are more recent movies worse rated?"
   ]
  },
  {
   "cell_type": "code",
   "execution_count": 17,
   "metadata": {},
   "outputs": [
    {
     "data": {
      "text/html": [
       "<div>\n",
       "<style scoped>\n",
       "    .dataframe tbody tr th:only-of-type {\n",
       "        vertical-align: middle;\n",
       "    }\n",
       "\n",
       "    .dataframe tbody tr th {\n",
       "        vertical-align: top;\n",
       "    }\n",
       "\n",
       "    .dataframe thead tr th {\n",
       "        text-align: left;\n",
       "    }\n",
       "</style>\n",
       "<table border=\"1\" class=\"dataframe\">\n",
       "  <thead>\n",
       "    <tr>\n",
       "      <th></th>\n",
       "      <th>Rating</th>\n",
       "      <th>Movies</th>\n",
       "      <th>Year</th>\n",
       "    </tr>\n",
       "    <tr>\n",
       "      <th></th>\n",
       "      <th></th>\n",
       "      <th>count</th>\n",
       "      <th>median</th>\n",
       "    </tr>\n",
       "  </thead>\n",
       "  <tbody>\n",
       "    <tr>\n",
       "      <th>0</th>\n",
       "      <td>2.3</td>\n",
       "      <td>1</td>\n",
       "      <td>2021.0</td>\n",
       "    </tr>\n",
       "    <tr>\n",
       "      <th>1</th>\n",
       "      <td>2.9</td>\n",
       "      <td>1</td>\n",
       "      <td>2021.0</td>\n",
       "    </tr>\n",
       "    <tr>\n",
       "      <th>2</th>\n",
       "      <td>3.0</td>\n",
       "      <td>1</td>\n",
       "      <td>2021.0</td>\n",
       "    </tr>\n",
       "    <tr>\n",
       "      <th>3</th>\n",
       "      <td>3.6</td>\n",
       "      <td>1</td>\n",
       "      <td>2021.0</td>\n",
       "    </tr>\n",
       "    <tr>\n",
       "      <th>4</th>\n",
       "      <td>3.7</td>\n",
       "      <td>2</td>\n",
       "      <td>2021.0</td>\n",
       "    </tr>\n",
       "  </tbody>\n",
       "</table>\n",
       "</div>"
      ],
      "text/plain": [
       "  Rating Movies    Year\n",
       "          count  median\n",
       "0    2.3      1  2021.0\n",
       "1    2.9      1  2021.0\n",
       "2    3.0      1  2021.0\n",
       "3    3.6      1  2021.0\n",
       "4    3.7      2  2021.0"
      ]
     },
     "execution_count": 17,
     "metadata": {},
     "output_type": "execute_result"
    }
   ],
   "source": [
    "#Grouped DF\n",
    "\n",
    "GR_DF = DF.groupby(['Rating'], as_index = False).agg({'Movies': [ 'count'], 'Year': ['median']})\n",
    "\n",
    "GR_DF.head()"
   ]
  },
  {
   "cell_type": "code",
   "execution_count": 59,
   "metadata": {},
   "outputs": [
    {
     "data": {
      "image/png": "[encoded data removed]",
      "text/plain": [
       "<Figure size 1224x576 with 1 Axes>"
      ]
     },
     "metadata": {},
     "output_type": "display_data"
    }
   ],
   "source": [
    "#Plot n Movies by rating\n",
    "\n",
    "plt.style.use('dark_background')\n",
    "plt.figure(figsize = (17,8),constrained_layout = True)\n",
    "ax = sns.barplot(data = GR_DF, x = 'Rating', y = GR_DF['Movies']['count'])\n",
    "ax.set_xlabel('Rating')\n",
    "ax.set_ylabel('Nº Movies')\n",
    "plt.show()\n",
    "\n",
    "#Looks like normal distribution"
   ]
  },
  {
   "cell_type": "markdown",
   "metadata": {},
   "source": []
  },
  {
   "cell_type": "markdown",
   "metadata": {},
   "source": []
  }
 ],
 "metadata": {
  "interpreter": {
   "hash": "b8363001470de25712bac2d0eb388910cc376b4832017ab0a243ff629513c32f"
  },
  "kernelspec": {
   "display_name": "Python 3.10.2 64-bit",
   "language": "python",
   "name": "python3"
  },
  "language_info": {
   "codemirror_mode": {
    "name": "ipython",
    "version": 3
   },
   "file_extension": ".py",
   "mimetype": "text/x-python",
   "name": "python",
   "nbconvert_exporter": "python",
   "pygments_lexer": "ipython3",
   "version": "3.10.2"
  },
  "orig_nbformat": 4
 },
 "nbformat": 4,
 "nbformat_minor": 2
}
